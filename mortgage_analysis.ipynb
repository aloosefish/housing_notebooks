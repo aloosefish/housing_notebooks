{
 "cells": [
  {
   "cell_type": "markdown",
   "source": [
    "Python that charts monthly mortgage payment amount (x-axis) and sale price of house (y-axis). Loan term is always 30 years. Provide a slider for annual interest rate, with discrete values ranging from 3% to 9% at .25% intervals, with a default value of 7%. Provide another slider for down payment amount as a percentage of sale price of house, with discrete values ranging from 15% to 30% at 2.5% intervals, with a default value of 20%. "
   ],
   "metadata": {
    "collapsed": false
   },
   "id": "3acffa666f44bebb"
  },
  {
   "cell_type": "code",
   "outputs": [
    {
     "data": {
      "text/plain": "interactive(children=(FloatSlider(value=7.0, description='Interest Rate (%)', max=9.0, min=3.0, step=0.25), Fl…",
      "application/vnd.jupyter.widget-view+json": {
       "version_major": 2,
       "version_minor": 0,
       "model_id": "5b0ee6ccec5b4229b2f0ac7abacf3909"
      }
     },
     "metadata": {},
     "output_type": "display_data"
    },
    {
     "data": {
      "text/plain": "<function __main__.plot_mortgage_payments(annual_interest_rate, down_payment_percentage)>"
     },
     "execution_count": 12,
     "metadata": {},
     "output_type": "execute_result"
    }
   ],
   "source": [
    "import numpy as np\n",
    "import matplotlib.pyplot as plt\n",
    "import pandas as pd\n",
    "from ipywidgets import interact, FloatSlider, IntSlider\n",
    "\n",
    "def calculate_monthly_payment(principal, annual_interest_rate, loan_term_years):\n",
    "    # Convert annual interest rate to monthly rate\n",
    "    monthly_interest_rate = annual_interest_rate / 12 / 100\n",
    "    \n",
    "    # Convert loan term from years to months\n",
    "    loan_term_months = loan_term_years * 12\n",
    "    \n",
    "    # Calculate monthly payment using the formula for an amortizing loan\n",
    "    monthly_payment = principal * (monthly_interest_rate * (1 + monthly_interest_rate) ** loan_term_months) / ((1 + monthly_interest_rate) ** loan_term_months - 1)\n",
    "    \n",
    "    return monthly_payment\n",
    "\n",
    "def plot_mortgage_payments(annual_interest_rate, down_payment_percentage):\n",
    "    # Constants\n",
    "    principal_range = np.arange(900, 3100, 50)\n",
    "    sale_price_range = np.arange(200000, 610000, 25000)\n",
    "    loan_term_years = 30\n",
    "\n",
    "    # Calculate down payment amount\n",
    "    down_payment_amount = sale_price_range * down_payment_percentage / 100\n",
    "\n",
    "    # Calculate principal amount\n",
    "    principal = sale_price_range - down_payment_amount\n",
    "\n",
    "    # Calculate monthly payments\n",
    "    monthly_payments = [calculate_monthly_payment(p, annual_interest_rate, loan_term_years) for p in principal]\n",
    "\n",
    "    # Plot\n",
    "    plt.figure(figsize=(10, 6))\n",
    "    plt.plot(monthly_payments, sale_price_range, marker='o', linestyle='-')\n",
    "    plt.title('Monthly Mortgage Payments vs. Sale Price of House')\n",
    "    plt.xlabel('Monthly Mortgage Payment ($)')\n",
    "    plt.ylabel('Sale Price of House ($)')\n",
    "    plt.grid(True)\n",
    "    plt.show()\n",
    "    \n",
    "    # Display table\n",
    "    data = {'Monthly Mortgage Payment ($)': monthly_payments, 'Sale Price of House ($)': sale_price_range, 'Down Payment Amount ($)': down_payment_amount}\n",
    "    df = pd.DataFrame(data)\n",
    "    print(df.to_string(index=False))\n",
    "# Define sliders\n",
    "interest_rate_slider = FloatSlider(value=7, min=3, max=9, step=0.25, description='Interest Rate (%)')\n",
    "down_payment_slider = FloatSlider(value=20, min=15, max=30, step=2.5, description='Down Payment (%)')\n",
    "\n",
    "# Display interactive plot\n",
    "interact(plot_mortgage_payments, annual_interest_rate=interest_rate_slider, down_payment_percentage=down_payment_slider)\n"
   ],
   "metadata": {
    "collapsed": false,
    "ExecuteTime": {
     "end_time": "2024-03-01T15:30:27.404921Z",
     "start_time": "2024-03-01T15:30:27.282925Z"
    }
   },
   "id": "4eb4a7e38e8524f7",
   "execution_count": 12
  },
  {
   "cell_type": "code",
   "outputs": [],
   "source": [],
   "metadata": {
    "collapsed": false
   },
   "id": "21dacfd6ccb4b254"
  }
 ],
 "metadata": {
  "kernelspec": {
   "display_name": "Python 3",
   "language": "python",
   "name": "python3"
  },
  "language_info": {
   "codemirror_mode": {
    "name": "ipython",
    "version": 2
   },
   "file_extension": ".py",
   "mimetype": "text/x-python",
   "name": "python",
   "nbconvert_exporter": "python",
   "pygments_lexer": "ipython2",
   "version": "2.7.6"
  }
 },
 "nbformat": 4,
 "nbformat_minor": 5
}
